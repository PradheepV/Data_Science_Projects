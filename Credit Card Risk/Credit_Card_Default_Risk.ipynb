{
 "cells": [
  {
   "cell_type": "markdown",
   "metadata": {},
   "source": [
    "<h1>Project: Credit Card Payments - Default<h1>"
   ]
  },
  {
   "cell_type": "markdown",
   "metadata": {},
   "source": [
    "<h4>Source:</h4>\n",
    "\n",
    "Name: I-Cheng Yeh\n",
    "email addresses: (1) icyeh '@' chu.edu.tw (2) 140910 '@' mail.tku.edu.tw\n",
    "institutions: (1) Department of Information Management, Chung Hua University, Taiwan. (2) Department of Civil Engineering, Tamkang University, Taiwan.\n",
    "\n",
    "Data set found at:\n",
    "https://archive.ics.uci.edu/ml/datasets/default+of+credit+card+clients#"
   ]
  },
  {
   "cell_type": "markdown",
   "metadata": {},
   "source": [
    "<h4>Data Set Information:</h4>\n",
    "\n",
    "This research aimed at the case of customers default payments in Taiwan and compares the predictive accuracy of probability of default among six data mining methods. From the perspective of risk management, the result of predictive accuracy of the estimated probability of default will be more valuable than the binary result of classification - credible or not credible clients. "
   ]
  },
  {
   "cell_type": "markdown",
   "metadata": {},
   "source": [
    "X1: Amount of the given credit (NT dollar): it includes both the individual consumer credit and his/her family (supplementary) credit.<br>\n",
    "X2: Gender (1 = male; 2 = female).<br>\n",
    "X3: Education (1 = graduate school; 2 = university; 3 = high school; 4 = others).<br>\n",
    "X4: Marital status (1 = married; 2 = single; 3 = others).<br>\n",
    "X5: Age (year).<br>\n",
    "X6 - X11: History of past payment. We tracked the past monthly payment records (from April to September, 2005) as follows: <br>\n",
    "X6 = the repayment status in September, 2005; <br>\n",
    "X7 = the repayment status in August, 2005; . . .;<br>\n",
    "X11 = the repayment status in April, 2005. <br>\n",
    "<br>\n",
    "The measurement scale for the repayment status is: <br>\n",
    "-1 = pay duly; <br>\n",
    "1 = payment delay for one month; <br>\n",
    "2 = payment delay for two months; . . .; <br>\n",
    "8 = payment delay for eight months; <br>\n",
    "9 = payment delay for nine months and above.<br>\n",
    "<br>\n",
    "X12-X17: Amount of bill statement (NT dollar). <br>\n",
    "X12 = amount of bill statement in September, 2005; \n",
    "X13 = amount of bill statement in August, 2005; . . .; <br>\n",
    "X17 = amount of bill statement in April, 2005.<br>\n",
    "X18-X23: Amount of previous payment (NT dollar). <br>\n",
    "X18 = amount paid in September, 2005; <br>\n",
    "X19 = amount paid in August, 2005; . . .;<br>\n",
    "X23 = amount paid in April, 2005.\n",
    "\n"
   ]
  },
  {
   "cell_type": "markdown",
   "metadata": {},
   "source": [
    "<b> Data Load </b>"
   ]
  },
  {
   "cell_type": "code",
   "execution_count": 1,
   "metadata": {},
   "outputs": [],
   "source": [
    "import pandas as pd\n",
    "import numpy as np\n",
    "import seaborn as sns\n",
    "import matplotlib.pyplot as plt\n",
    "%matplotlib inline"
   ]
  },
  {
   "cell_type": "code",
   "execution_count": 2,
   "metadata": {},
   "outputs": [],
   "source": [
    "cc_data = pd.read_excel(\"default of credit card clients.xls\")"
   ]
  },
  {
   "cell_type": "markdown",
   "metadata": {},
   "source": [
    "<h2> Data Exploration & Data Cleaning <h2>"
   ]
  },
  {
   "cell_type": "code",
   "execution_count": 3,
   "metadata": {},
   "outputs": [
    {
     "data": {
      "text/plain": [
       "(30001, 25)"
      ]
     },
     "execution_count": 3,
     "metadata": {},
     "output_type": "execute_result"
    }
   ],
   "source": [
    "cc_data.shape"
   ]
  },
  {
   "cell_type": "code",
   "execution_count": 4,
   "metadata": {},
   "outputs": [
    {
     "data": {
      "text/html": [
       "<div>\n",
       "<style scoped>\n",
       "    .dataframe tbody tr th:only-of-type {\n",
       "        vertical-align: middle;\n",
       "    }\n",
       "\n",
       "    .dataframe tbody tr th {\n",
       "        vertical-align: top;\n",
       "    }\n",
       "\n",
       "    .dataframe thead th {\n",
       "        text-align: right;\n",
       "    }\n",
       "</style>\n",
       "<table border=\"1\" class=\"dataframe\">\n",
       "  <thead>\n",
       "    <tr style=\"text-align: right;\">\n",
       "      <th></th>\n",
       "      <th>Unnamed: 0</th>\n",
       "      <th>X1</th>\n",
       "      <th>X2</th>\n",
       "      <th>X3</th>\n",
       "      <th>X4</th>\n",
       "      <th>X5</th>\n",
       "      <th>X6</th>\n",
       "      <th>X7</th>\n",
       "      <th>X8</th>\n",
       "      <th>X9</th>\n",
       "      <th>...</th>\n",
       "      <th>X15</th>\n",
       "      <th>X16</th>\n",
       "      <th>X17</th>\n",
       "      <th>X18</th>\n",
       "      <th>X19</th>\n",
       "      <th>X20</th>\n",
       "      <th>X21</th>\n",
       "      <th>X22</th>\n",
       "      <th>X23</th>\n",
       "      <th>Y</th>\n",
       "    </tr>\n",
       "  </thead>\n",
       "  <tbody>\n",
       "    <tr>\n",
       "      <td>0</td>\n",
       "      <td>ID</td>\n",
       "      <td>LIMIT_BAL</td>\n",
       "      <td>SEX</td>\n",
       "      <td>EDUCATION</td>\n",
       "      <td>MARRIAGE</td>\n",
       "      <td>AGE</td>\n",
       "      <td>PAY_0</td>\n",
       "      <td>PAY_2</td>\n",
       "      <td>PAY_3</td>\n",
       "      <td>PAY_4</td>\n",
       "      <td>...</td>\n",
       "      <td>BILL_AMT4</td>\n",
       "      <td>BILL_AMT5</td>\n",
       "      <td>BILL_AMT6</td>\n",
       "      <td>PAY_AMT1</td>\n",
       "      <td>PAY_AMT2</td>\n",
       "      <td>PAY_AMT3</td>\n",
       "      <td>PAY_AMT4</td>\n",
       "      <td>PAY_AMT5</td>\n",
       "      <td>PAY_AMT6</td>\n",
       "      <td>default payment next month</td>\n",
       "    </tr>\n",
       "    <tr>\n",
       "      <td>1</td>\n",
       "      <td>1</td>\n",
       "      <td>20000</td>\n",
       "      <td>2</td>\n",
       "      <td>2</td>\n",
       "      <td>1</td>\n",
       "      <td>24</td>\n",
       "      <td>2</td>\n",
       "      <td>2</td>\n",
       "      <td>-1</td>\n",
       "      <td>-1</td>\n",
       "      <td>...</td>\n",
       "      <td>0</td>\n",
       "      <td>0</td>\n",
       "      <td>0</td>\n",
       "      <td>0</td>\n",
       "      <td>689</td>\n",
       "      <td>0</td>\n",
       "      <td>0</td>\n",
       "      <td>0</td>\n",
       "      <td>0</td>\n",
       "      <td>1</td>\n",
       "    </tr>\n",
       "    <tr>\n",
       "      <td>2</td>\n",
       "      <td>2</td>\n",
       "      <td>120000</td>\n",
       "      <td>2</td>\n",
       "      <td>2</td>\n",
       "      <td>2</td>\n",
       "      <td>26</td>\n",
       "      <td>-1</td>\n",
       "      <td>2</td>\n",
       "      <td>0</td>\n",
       "      <td>0</td>\n",
       "      <td>...</td>\n",
       "      <td>3272</td>\n",
       "      <td>3455</td>\n",
       "      <td>3261</td>\n",
       "      <td>0</td>\n",
       "      <td>1000</td>\n",
       "      <td>1000</td>\n",
       "      <td>1000</td>\n",
       "      <td>0</td>\n",
       "      <td>2000</td>\n",
       "      <td>1</td>\n",
       "    </tr>\n",
       "    <tr>\n",
       "      <td>3</td>\n",
       "      <td>3</td>\n",
       "      <td>90000</td>\n",
       "      <td>2</td>\n",
       "      <td>2</td>\n",
       "      <td>2</td>\n",
       "      <td>34</td>\n",
       "      <td>0</td>\n",
       "      <td>0</td>\n",
       "      <td>0</td>\n",
       "      <td>0</td>\n",
       "      <td>...</td>\n",
       "      <td>14331</td>\n",
       "      <td>14948</td>\n",
       "      <td>15549</td>\n",
       "      <td>1518</td>\n",
       "      <td>1500</td>\n",
       "      <td>1000</td>\n",
       "      <td>1000</td>\n",
       "      <td>1000</td>\n",
       "      <td>5000</td>\n",
       "      <td>0</td>\n",
       "    </tr>\n",
       "    <tr>\n",
       "      <td>4</td>\n",
       "      <td>4</td>\n",
       "      <td>50000</td>\n",
       "      <td>2</td>\n",
       "      <td>2</td>\n",
       "      <td>1</td>\n",
       "      <td>37</td>\n",
       "      <td>0</td>\n",
       "      <td>0</td>\n",
       "      <td>0</td>\n",
       "      <td>0</td>\n",
       "      <td>...</td>\n",
       "      <td>28314</td>\n",
       "      <td>28959</td>\n",
       "      <td>29547</td>\n",
       "      <td>2000</td>\n",
       "      <td>2019</td>\n",
       "      <td>1200</td>\n",
       "      <td>1100</td>\n",
       "      <td>1069</td>\n",
       "      <td>1000</td>\n",
       "      <td>0</td>\n",
       "    </tr>\n",
       "  </tbody>\n",
       "</table>\n",
       "<p>5 rows × 25 columns</p>\n",
       "</div>"
      ],
      "text/plain": [
       "  Unnamed: 0         X1   X2         X3        X4   X5     X6     X7     X8  \\\n",
       "0         ID  LIMIT_BAL  SEX  EDUCATION  MARRIAGE  AGE  PAY_0  PAY_2  PAY_3   \n",
       "1          1      20000    2          2         1   24      2      2     -1   \n",
       "2          2     120000    2          2         2   26     -1      2      0   \n",
       "3          3      90000    2          2         2   34      0      0      0   \n",
       "4          4      50000    2          2         1   37      0      0      0   \n",
       "\n",
       "      X9  ...        X15        X16        X17       X18       X19       X20  \\\n",
       "0  PAY_4  ...  BILL_AMT4  BILL_AMT5  BILL_AMT6  PAY_AMT1  PAY_AMT2  PAY_AMT3   \n",
       "1     -1  ...          0          0          0         0       689         0   \n",
       "2      0  ...       3272       3455       3261         0      1000      1000   \n",
       "3      0  ...      14331      14948      15549      1518      1500      1000   \n",
       "4      0  ...      28314      28959      29547      2000      2019      1200   \n",
       "\n",
       "        X21       X22       X23                           Y  \n",
       "0  PAY_AMT4  PAY_AMT5  PAY_AMT6  default payment next month  \n",
       "1         0         0         0                           1  \n",
       "2      1000         0      2000                           1  \n",
       "3      1000      1000      5000                           0  \n",
       "4      1100      1069      1000                           0  \n",
       "\n",
       "[5 rows x 25 columns]"
      ]
     },
     "execution_count": 4,
     "metadata": {},
     "output_type": "execute_result"
    }
   ],
   "source": [
    "cc_data.head()"
   ]
  },
  {
   "cell_type": "markdown",
   "metadata": {},
   "source": [
    "Observations:\n",
    "1. The column names are X1, X2,X3 and so on. We need to rename them to make it sensible\n",
    "2. The second row corresponds mre to the actual column names, so we can use that instead and rename accordingly\n",
    "3. The column ID just corresponds to index and can be dropped"
   ]
  },
  {
   "cell_type": "code",
   "execution_count": 5,
   "metadata": {},
   "outputs": [
    {
     "data": {
      "text/html": [
       "<div>\n",
       "<style scoped>\n",
       "    .dataframe tbody tr th:only-of-type {\n",
       "        vertical-align: middle;\n",
       "    }\n",
       "\n",
       "    .dataframe tbody tr th {\n",
       "        vertical-align: top;\n",
       "    }\n",
       "\n",
       "    .dataframe thead th {\n",
       "        text-align: right;\n",
       "    }\n",
       "</style>\n",
       "<table border=\"1\" class=\"dataframe\">\n",
       "  <thead>\n",
       "    <tr style=\"text-align: right;\">\n",
       "      <th></th>\n",
       "      <th>Unnamed: 0</th>\n",
       "      <th>X1</th>\n",
       "      <th>X2</th>\n",
       "      <th>X3</th>\n",
       "      <th>X4</th>\n",
       "      <th>X5</th>\n",
       "      <th>X6</th>\n",
       "      <th>X7</th>\n",
       "      <th>X8</th>\n",
       "      <th>X9</th>\n",
       "      <th>...</th>\n",
       "      <th>X15</th>\n",
       "      <th>X16</th>\n",
       "      <th>X17</th>\n",
       "      <th>X18</th>\n",
       "      <th>X19</th>\n",
       "      <th>X20</th>\n",
       "      <th>X21</th>\n",
       "      <th>X22</th>\n",
       "      <th>X23</th>\n",
       "      <th>Y</th>\n",
       "    </tr>\n",
       "  </thead>\n",
       "  <tbody>\n",
       "    <tr>\n",
       "      <td>0</td>\n",
       "      <td>ID</td>\n",
       "      <td>LIMIT_BAL</td>\n",
       "      <td>SEX</td>\n",
       "      <td>EDUCATION</td>\n",
       "      <td>MARRIAGE</td>\n",
       "      <td>AGE</td>\n",
       "      <td>PAY_0</td>\n",
       "      <td>PAY_2</td>\n",
       "      <td>PAY_3</td>\n",
       "      <td>PAY_4</td>\n",
       "      <td>...</td>\n",
       "      <td>BILL_AMT4</td>\n",
       "      <td>BILL_AMT5</td>\n",
       "      <td>BILL_AMT6</td>\n",
       "      <td>PAY_AMT1</td>\n",
       "      <td>PAY_AMT2</td>\n",
       "      <td>PAY_AMT3</td>\n",
       "      <td>PAY_AMT4</td>\n",
       "      <td>PAY_AMT5</td>\n",
       "      <td>PAY_AMT6</td>\n",
       "      <td>default payment next month</td>\n",
       "    </tr>\n",
       "  </tbody>\n",
       "</table>\n",
       "<p>1 rows × 25 columns</p>\n",
       "</div>"
      ],
      "text/plain": [
       "  Unnamed: 0         X1   X2         X3        X4   X5     X6     X7     X8  \\\n",
       "0         ID  LIMIT_BAL  SEX  EDUCATION  MARRIAGE  AGE  PAY_0  PAY_2  PAY_3   \n",
       "\n",
       "      X9  ...        X15        X16        X17       X18       X19       X20  \\\n",
       "0  PAY_4  ...  BILL_AMT4  BILL_AMT5  BILL_AMT6  PAY_AMT1  PAY_AMT2  PAY_AMT3   \n",
       "\n",
       "        X21       X22       X23                           Y  \n",
       "0  PAY_AMT4  PAY_AMT5  PAY_AMT6  default payment next month  \n",
       "\n",
       "[1 rows x 25 columns]"
      ]
     },
     "execution_count": 5,
     "metadata": {},
     "output_type": "execute_result"
    }
   ],
   "source": [
    "cc_data[0:1]"
   ]
  },
  {
   "cell_type": "code",
   "execution_count": 6,
   "metadata": {},
   "outputs": [
    {
     "data": {
      "text/plain": [
       "Index(['Unnamed: 0', 'X1', 'X2', 'X3', 'X4', 'X5', 'X6', 'X7', 'X8', 'X9',\n",
       "       'X10', 'X11', 'X12', 'X13', 'X14', 'X15', 'X16', 'X17', 'X18', 'X19',\n",
       "       'X20', 'X21', 'X22', 'X23', 'Y'],\n",
       "      dtype='object')"
      ]
     },
     "execution_count": 6,
     "metadata": {},
     "output_type": "execute_result"
    }
   ],
   "source": [
    "cc_data.columns"
   ]
  },
  {
   "cell_type": "code",
   "execution_count": 7,
   "metadata": {
    "scrolled": true
   },
   "outputs": [],
   "source": [
    "# Dropping the first column storing the index values\n",
    "cc_data.drop(\"Unnamed: 0\",axis=1,inplace=True)"
   ]
  },
  {
   "cell_type": "code",
   "execution_count": 8,
   "metadata": {},
   "outputs": [],
   "source": [
    "#Renaming Columns\n",
    "cc_data.rename(columns={\"X1\":\"Limit_bal\",\"X2\":\"Sex\",\"X3\":\"Education\",\"X4\":\"Marital_status\",\n",
    "                       \"X5\":\"Age\",\"X6\":\"Repay_Status_Sep05\",\"X7\":\"Repay_Status_Aug05\",\n",
    "                       \"X8\":\"Repay_Status_Jul05\",\"X9\":\"Repay_Status_Jun05\",\n",
    "                       \"X10\":\"Repay_Status_May05\",\"X11\":\"Repay_Status_Apr05\",\n",
    "                       \"X12\":\"Bill_Amt_Sep05\",\"X13\":\"Bill_Amt_Aug05\",\n",
    "                       \"X14\":\"Bill_Amt_Jul05\",\"X15\":\"Bill_Amt_Jun05\",\n",
    "                       \"X16\":\"Bill_Amt_May05\",\"X17\":\"Bill_Amt_Apr05\",\n",
    "                       \"X18\":\"Amt_Paid_Sep05\",\"X19\":\"Amt_Paid_Aug05\",\n",
    "                       \"X20\":\"Amt_Paid_Jul05\",\"X21\":\"Amt_Paid_Jun05\",\n",
    "                       \"X22\":\"Amt_Paid_May05\",\"X23\":\"Amt_Paid_Apr05\"},inplace=True)"
   ]
  },
  {
   "cell_type": "code",
   "execution_count": 9,
   "metadata": {},
   "outputs": [],
   "source": [
    "#Dropping the first row which had the previous column names in Caps\n",
    "cc_data.drop([0],inplace=True)"
   ]
  },
  {
   "cell_type": "code",
   "execution_count": 10,
   "metadata": {},
   "outputs": [
    {
     "data": {
      "text/html": [
       "<div>\n",
       "<style scoped>\n",
       "    .dataframe tbody tr th:only-of-type {\n",
       "        vertical-align: middle;\n",
       "    }\n",
       "\n",
       "    .dataframe tbody tr th {\n",
       "        vertical-align: top;\n",
       "    }\n",
       "\n",
       "    .dataframe thead th {\n",
       "        text-align: right;\n",
       "    }\n",
       "</style>\n",
       "<table border=\"1\" class=\"dataframe\">\n",
       "  <thead>\n",
       "    <tr style=\"text-align: right;\">\n",
       "      <th></th>\n",
       "      <th>Limit_bal</th>\n",
       "      <th>Sex</th>\n",
       "      <th>Education</th>\n",
       "      <th>Marital_status</th>\n",
       "      <th>Age</th>\n",
       "      <th>Repay_Status_Sep05</th>\n",
       "      <th>Repay_Status_Aug05</th>\n",
       "      <th>Repay_Status_Jul05</th>\n",
       "      <th>Repay_Status_Jun05</th>\n",
       "      <th>Repay_Status_May05</th>\n",
       "      <th>...</th>\n",
       "      <th>Bill_Amt_Jun05</th>\n",
       "      <th>Bill_Amt_May05</th>\n",
       "      <th>Bill_Amt_Apr05</th>\n",
       "      <th>Amt_Paid_Sep05</th>\n",
       "      <th>Amt_Paid_Aug05</th>\n",
       "      <th>Amt_Paid_Jul05</th>\n",
       "      <th>Amt_Paid_Jun05</th>\n",
       "      <th>Amt_Paid_May05</th>\n",
       "      <th>Amt_Paid_Apr05</th>\n",
       "      <th>Y</th>\n",
       "    </tr>\n",
       "  </thead>\n",
       "  <tbody>\n",
       "    <tr>\n",
       "      <td>0</td>\n",
       "      <td>20000</td>\n",
       "      <td>2</td>\n",
       "      <td>2</td>\n",
       "      <td>1</td>\n",
       "      <td>24</td>\n",
       "      <td>2</td>\n",
       "      <td>2</td>\n",
       "      <td>-1</td>\n",
       "      <td>-1</td>\n",
       "      <td>-2</td>\n",
       "      <td>...</td>\n",
       "      <td>0</td>\n",
       "      <td>0</td>\n",
       "      <td>0</td>\n",
       "      <td>0</td>\n",
       "      <td>689</td>\n",
       "      <td>0</td>\n",
       "      <td>0</td>\n",
       "      <td>0</td>\n",
       "      <td>0</td>\n",
       "      <td>1</td>\n",
       "    </tr>\n",
       "    <tr>\n",
       "      <td>1</td>\n",
       "      <td>120000</td>\n",
       "      <td>2</td>\n",
       "      <td>2</td>\n",
       "      <td>2</td>\n",
       "      <td>26</td>\n",
       "      <td>-1</td>\n",
       "      <td>2</td>\n",
       "      <td>0</td>\n",
       "      <td>0</td>\n",
       "      <td>0</td>\n",
       "      <td>...</td>\n",
       "      <td>3272</td>\n",
       "      <td>3455</td>\n",
       "      <td>3261</td>\n",
       "      <td>0</td>\n",
       "      <td>1000</td>\n",
       "      <td>1000</td>\n",
       "      <td>1000</td>\n",
       "      <td>0</td>\n",
       "      <td>2000</td>\n",
       "      <td>1</td>\n",
       "    </tr>\n",
       "    <tr>\n",
       "      <td>2</td>\n",
       "      <td>90000</td>\n",
       "      <td>2</td>\n",
       "      <td>2</td>\n",
       "      <td>2</td>\n",
       "      <td>34</td>\n",
       "      <td>0</td>\n",
       "      <td>0</td>\n",
       "      <td>0</td>\n",
       "      <td>0</td>\n",
       "      <td>0</td>\n",
       "      <td>...</td>\n",
       "      <td>14331</td>\n",
       "      <td>14948</td>\n",
       "      <td>15549</td>\n",
       "      <td>1518</td>\n",
       "      <td>1500</td>\n",
       "      <td>1000</td>\n",
       "      <td>1000</td>\n",
       "      <td>1000</td>\n",
       "      <td>5000</td>\n",
       "      <td>0</td>\n",
       "    </tr>\n",
       "    <tr>\n",
       "      <td>3</td>\n",
       "      <td>50000</td>\n",
       "      <td>2</td>\n",
       "      <td>2</td>\n",
       "      <td>1</td>\n",
       "      <td>37</td>\n",
       "      <td>0</td>\n",
       "      <td>0</td>\n",
       "      <td>0</td>\n",
       "      <td>0</td>\n",
       "      <td>0</td>\n",
       "      <td>...</td>\n",
       "      <td>28314</td>\n",
       "      <td>28959</td>\n",
       "      <td>29547</td>\n",
       "      <td>2000</td>\n",
       "      <td>2019</td>\n",
       "      <td>1200</td>\n",
       "      <td>1100</td>\n",
       "      <td>1069</td>\n",
       "      <td>1000</td>\n",
       "      <td>0</td>\n",
       "    </tr>\n",
       "    <tr>\n",
       "      <td>4</td>\n",
       "      <td>50000</td>\n",
       "      <td>1</td>\n",
       "      <td>2</td>\n",
       "      <td>1</td>\n",
       "      <td>57</td>\n",
       "      <td>-1</td>\n",
       "      <td>0</td>\n",
       "      <td>-1</td>\n",
       "      <td>0</td>\n",
       "      <td>0</td>\n",
       "      <td>...</td>\n",
       "      <td>20940</td>\n",
       "      <td>19146</td>\n",
       "      <td>19131</td>\n",
       "      <td>2000</td>\n",
       "      <td>36681</td>\n",
       "      <td>10000</td>\n",
       "      <td>9000</td>\n",
       "      <td>689</td>\n",
       "      <td>679</td>\n",
       "      <td>0</td>\n",
       "    </tr>\n",
       "    <tr>\n",
       "      <td>...</td>\n",
       "      <td>...</td>\n",
       "      <td>...</td>\n",
       "      <td>...</td>\n",
       "      <td>...</td>\n",
       "      <td>...</td>\n",
       "      <td>...</td>\n",
       "      <td>...</td>\n",
       "      <td>...</td>\n",
       "      <td>...</td>\n",
       "      <td>...</td>\n",
       "      <td>...</td>\n",
       "      <td>...</td>\n",
       "      <td>...</td>\n",
       "      <td>...</td>\n",
       "      <td>...</td>\n",
       "      <td>...</td>\n",
       "      <td>...</td>\n",
       "      <td>...</td>\n",
       "      <td>...</td>\n",
       "      <td>...</td>\n",
       "      <td>...</td>\n",
       "    </tr>\n",
       "    <tr>\n",
       "      <td>29995</td>\n",
       "      <td>220000</td>\n",
       "      <td>1</td>\n",
       "      <td>3</td>\n",
       "      <td>1</td>\n",
       "      <td>39</td>\n",
       "      <td>0</td>\n",
       "      <td>0</td>\n",
       "      <td>0</td>\n",
       "      <td>0</td>\n",
       "      <td>0</td>\n",
       "      <td>...</td>\n",
       "      <td>88004</td>\n",
       "      <td>31237</td>\n",
       "      <td>15980</td>\n",
       "      <td>8500</td>\n",
       "      <td>20000</td>\n",
       "      <td>5003</td>\n",
       "      <td>3047</td>\n",
       "      <td>5000</td>\n",
       "      <td>1000</td>\n",
       "      <td>0</td>\n",
       "    </tr>\n",
       "    <tr>\n",
       "      <td>29996</td>\n",
       "      <td>150000</td>\n",
       "      <td>1</td>\n",
       "      <td>3</td>\n",
       "      <td>2</td>\n",
       "      <td>43</td>\n",
       "      <td>-1</td>\n",
       "      <td>-1</td>\n",
       "      <td>-1</td>\n",
       "      <td>-1</td>\n",
       "      <td>0</td>\n",
       "      <td>...</td>\n",
       "      <td>8979</td>\n",
       "      <td>5190</td>\n",
       "      <td>0</td>\n",
       "      <td>1837</td>\n",
       "      <td>3526</td>\n",
       "      <td>8998</td>\n",
       "      <td>129</td>\n",
       "      <td>0</td>\n",
       "      <td>0</td>\n",
       "      <td>0</td>\n",
       "    </tr>\n",
       "    <tr>\n",
       "      <td>29997</td>\n",
       "      <td>30000</td>\n",
       "      <td>1</td>\n",
       "      <td>2</td>\n",
       "      <td>2</td>\n",
       "      <td>37</td>\n",
       "      <td>4</td>\n",
       "      <td>3</td>\n",
       "      <td>2</td>\n",
       "      <td>-1</td>\n",
       "      <td>0</td>\n",
       "      <td>...</td>\n",
       "      <td>20878</td>\n",
       "      <td>20582</td>\n",
       "      <td>19357</td>\n",
       "      <td>0</td>\n",
       "      <td>0</td>\n",
       "      <td>22000</td>\n",
       "      <td>4200</td>\n",
       "      <td>2000</td>\n",
       "      <td>3100</td>\n",
       "      <td>1</td>\n",
       "    </tr>\n",
       "    <tr>\n",
       "      <td>29998</td>\n",
       "      <td>80000</td>\n",
       "      <td>1</td>\n",
       "      <td>3</td>\n",
       "      <td>1</td>\n",
       "      <td>41</td>\n",
       "      <td>1</td>\n",
       "      <td>-1</td>\n",
       "      <td>0</td>\n",
       "      <td>0</td>\n",
       "      <td>0</td>\n",
       "      <td>...</td>\n",
       "      <td>52774</td>\n",
       "      <td>11855</td>\n",
       "      <td>48944</td>\n",
       "      <td>85900</td>\n",
       "      <td>3409</td>\n",
       "      <td>1178</td>\n",
       "      <td>1926</td>\n",
       "      <td>52964</td>\n",
       "      <td>1804</td>\n",
       "      <td>1</td>\n",
       "    </tr>\n",
       "    <tr>\n",
       "      <td>29999</td>\n",
       "      <td>50000</td>\n",
       "      <td>1</td>\n",
       "      <td>2</td>\n",
       "      <td>1</td>\n",
       "      <td>46</td>\n",
       "      <td>0</td>\n",
       "      <td>0</td>\n",
       "      <td>0</td>\n",
       "      <td>0</td>\n",
       "      <td>0</td>\n",
       "      <td>...</td>\n",
       "      <td>36535</td>\n",
       "      <td>32428</td>\n",
       "      <td>15313</td>\n",
       "      <td>2078</td>\n",
       "      <td>1800</td>\n",
       "      <td>1430</td>\n",
       "      <td>1000</td>\n",
       "      <td>1000</td>\n",
       "      <td>1000</td>\n",
       "      <td>1</td>\n",
       "    </tr>\n",
       "  </tbody>\n",
       "</table>\n",
       "<p>30000 rows × 24 columns</p>\n",
       "</div>"
      ],
      "text/plain": [
       "      Limit_bal Sex Education Marital_status Age Repay_Status_Sep05  \\\n",
       "0         20000   2         2              1  24                  2   \n",
       "1        120000   2         2              2  26                 -1   \n",
       "2         90000   2         2              2  34                  0   \n",
       "3         50000   2         2              1  37                  0   \n",
       "4         50000   1         2              1  57                 -1   \n",
       "...         ...  ..       ...            ...  ..                ...   \n",
       "29995    220000   1         3              1  39                  0   \n",
       "29996    150000   1         3              2  43                 -1   \n",
       "29997     30000   1         2              2  37                  4   \n",
       "29998     80000   1         3              1  41                  1   \n",
       "29999     50000   1         2              1  46                  0   \n",
       "\n",
       "      Repay_Status_Aug05 Repay_Status_Jul05 Repay_Status_Jun05  \\\n",
       "0                      2                 -1                 -1   \n",
       "1                      2                  0                  0   \n",
       "2                      0                  0                  0   \n",
       "3                      0                  0                  0   \n",
       "4                      0                 -1                  0   \n",
       "...                  ...                ...                ...   \n",
       "29995                  0                  0                  0   \n",
       "29996                 -1                 -1                 -1   \n",
       "29997                  3                  2                 -1   \n",
       "29998                 -1                  0                  0   \n",
       "29999                  0                  0                  0   \n",
       "\n",
       "      Repay_Status_May05  ... Bill_Amt_Jun05 Bill_Amt_May05 Bill_Amt_Apr05  \\\n",
       "0                     -2  ...              0              0              0   \n",
       "1                      0  ...           3272           3455           3261   \n",
       "2                      0  ...          14331          14948          15549   \n",
       "3                      0  ...          28314          28959          29547   \n",
       "4                      0  ...          20940          19146          19131   \n",
       "...                  ...  ...            ...            ...            ...   \n",
       "29995                  0  ...          88004          31237          15980   \n",
       "29996                  0  ...           8979           5190              0   \n",
       "29997                  0  ...          20878          20582          19357   \n",
       "29998                  0  ...          52774          11855          48944   \n",
       "29999                  0  ...          36535          32428          15313   \n",
       "\n",
       "      Amt_Paid_Sep05 Amt_Paid_Aug05 Amt_Paid_Jul05 Amt_Paid_Jun05  \\\n",
       "0                  0            689              0              0   \n",
       "1                  0           1000           1000           1000   \n",
       "2               1518           1500           1000           1000   \n",
       "3               2000           2019           1200           1100   \n",
       "4               2000          36681          10000           9000   \n",
       "...              ...            ...            ...            ...   \n",
       "29995           8500          20000           5003           3047   \n",
       "29996           1837           3526           8998            129   \n",
       "29997              0              0          22000           4200   \n",
       "29998          85900           3409           1178           1926   \n",
       "29999           2078           1800           1430           1000   \n",
       "\n",
       "      Amt_Paid_May05 Amt_Paid_Apr05  Y  \n",
       "0                  0              0  1  \n",
       "1                  0           2000  1  \n",
       "2               1000           5000  0  \n",
       "3               1069           1000  0  \n",
       "4                689            679  0  \n",
       "...              ...            ... ..  \n",
       "29995           5000           1000  0  \n",
       "29996              0              0  0  \n",
       "29997           2000           3100  1  \n",
       "29998          52964           1804  1  \n",
       "29999           1000           1000  1  \n",
       "\n",
       "[30000 rows x 24 columns]"
      ]
     },
     "execution_count": 10,
     "metadata": {},
     "output_type": "execute_result"
    }
   ],
   "source": [
    "#Resetting the row index\n",
    "cc_data.reset_index(drop=True)"
   ]
  },
  {
   "cell_type": "code",
   "execution_count": 11,
   "metadata": {},
   "outputs": [
    {
     "name": "stdout",
     "output_type": "stream",
     "text": [
      "<class 'pandas.core.frame.DataFrame'>\n",
      "Int64Index: 30000 entries, 1 to 30000\n",
      "Data columns (total 24 columns):\n",
      "Limit_bal             30000 non-null object\n",
      "Sex                   30000 non-null object\n",
      "Education             30000 non-null object\n",
      "Marital_status        30000 non-null object\n",
      "Age                   30000 non-null object\n",
      "Repay_Status_Sep05    30000 non-null object\n",
      "Repay_Status_Aug05    30000 non-null object\n",
      "Repay_Status_Jul05    30000 non-null object\n",
      "Repay_Status_Jun05    30000 non-null object\n",
      "Repay_Status_May05    30000 non-null object\n",
      "Repay_Status_Apr05    30000 non-null object\n",
      "Bill_Amt_Sep05        30000 non-null object\n",
      "Bill_Amt_Aug05        30000 non-null object\n",
      "Bill_Amt_Jul05        30000 non-null object\n",
      "Bill_Amt_Jun05        30000 non-null object\n",
      "Bill_Amt_May05        30000 non-null object\n",
      "Bill_Amt_Apr05        30000 non-null object\n",
      "Amt_Paid_Sep05        30000 non-null object\n",
      "Amt_Paid_Aug05        30000 non-null object\n",
      "Amt_Paid_Jul05        30000 non-null object\n",
      "Amt_Paid_Jun05        30000 non-null object\n",
      "Amt_Paid_May05        30000 non-null object\n",
      "Amt_Paid_Apr05        30000 non-null object\n",
      "Y                     30000 non-null object\n",
      "dtypes: object(24)\n",
      "memory usage: 5.7+ MB\n"
     ]
    }
   ],
   "source": [
    "cc_data.info()"
   ]
  },
  {
   "cell_type": "markdown",
   "metadata": {},
   "source": [
    "The last Column 'Y' was the output variable, droppng that so that we can make a new data model"
   ]
  },
  {
   "cell_type": "code",
   "execution_count": 12,
   "metadata": {},
   "outputs": [],
   "source": [
    "cc_data.drop(\"Y\",axis=1,inplace=True)"
   ]
  },
  {
   "cell_type": "code",
   "execution_count": 13,
   "metadata": {},
   "outputs": [],
   "source": [
    "cc_data = cc_data.astype(\"int\")"
   ]
  },
  {
   "cell_type": "code",
   "execution_count": 14,
   "metadata": {},
   "outputs": [
    {
     "name": "stdout",
     "output_type": "stream",
     "text": [
      "<class 'pandas.core.frame.DataFrame'>\n",
      "Int64Index: 30000 entries, 1 to 30000\n",
      "Data columns (total 23 columns):\n",
      "Limit_bal             30000 non-null int32\n",
      "Sex                   30000 non-null int32\n",
      "Education             30000 non-null int32\n",
      "Marital_status        30000 non-null int32\n",
      "Age                   30000 non-null int32\n",
      "Repay_Status_Sep05    30000 non-null int32\n",
      "Repay_Status_Aug05    30000 non-null int32\n",
      "Repay_Status_Jul05    30000 non-null int32\n",
      "Repay_Status_Jun05    30000 non-null int32\n",
      "Repay_Status_May05    30000 non-null int32\n",
      "Repay_Status_Apr05    30000 non-null int32\n",
      "Bill_Amt_Sep05        30000 non-null int32\n",
      "Bill_Amt_Aug05        30000 non-null int32\n",
      "Bill_Amt_Jul05        30000 non-null int32\n",
      "Bill_Amt_Jun05        30000 non-null int32\n",
      "Bill_Amt_May05        30000 non-null int32\n",
      "Bill_Amt_Apr05        30000 non-null int32\n",
      "Amt_Paid_Sep05        30000 non-null int32\n",
      "Amt_Paid_Aug05        30000 non-null int32\n",
      "Amt_Paid_Jul05        30000 non-null int32\n",
      "Amt_Paid_Jun05        30000 non-null int32\n",
      "Amt_Paid_May05        30000 non-null int32\n",
      "Amt_Paid_Apr05        30000 non-null int32\n",
      "dtypes: int32(23)\n",
      "memory usage: 2.9 MB\n"
     ]
    }
   ],
   "source": [
    "cc_data.info()"
   ]
  },
  {
   "cell_type": "markdown",
   "metadata": {},
   "source": [
    "Now we have no null values in our dataset, an all columns with the right data type "
   ]
  },
  {
   "cell_type": "markdown",
   "metadata": {},
   "source": [
    "<h2> Data Analysis </h2>"
   ]
  },
  {
   "cell_type": "code",
   "execution_count": 15,
   "metadata": {},
   "outputs": [
    {
     "data": {
      "text/html": [
       "<div>\n",
       "<style scoped>\n",
       "    .dataframe tbody tr th:only-of-type {\n",
       "        vertical-align: middle;\n",
       "    }\n",
       "\n",
       "    .dataframe tbody tr th {\n",
       "        vertical-align: top;\n",
       "    }\n",
       "\n",
       "    .dataframe thead th {\n",
       "        text-align: right;\n",
       "    }\n",
       "</style>\n",
       "<table border=\"1\" class=\"dataframe\">\n",
       "  <thead>\n",
       "    <tr style=\"text-align: right;\">\n",
       "      <th></th>\n",
       "      <th>Limit_bal</th>\n",
       "      <th>Sex</th>\n",
       "      <th>Education</th>\n",
       "      <th>Marital_status</th>\n",
       "      <th>Age</th>\n",
       "      <th>Repay_Status_Sep05</th>\n",
       "      <th>Repay_Status_Aug05</th>\n",
       "      <th>Repay_Status_Jul05</th>\n",
       "      <th>Repay_Status_Jun05</th>\n",
       "      <th>Repay_Status_May05</th>\n",
       "      <th>...</th>\n",
       "      <th>Bill_Amt_Jul05</th>\n",
       "      <th>Bill_Amt_Jun05</th>\n",
       "      <th>Bill_Amt_May05</th>\n",
       "      <th>Bill_Amt_Apr05</th>\n",
       "      <th>Amt_Paid_Sep05</th>\n",
       "      <th>Amt_Paid_Aug05</th>\n",
       "      <th>Amt_Paid_Jul05</th>\n",
       "      <th>Amt_Paid_Jun05</th>\n",
       "      <th>Amt_Paid_May05</th>\n",
       "      <th>Amt_Paid_Apr05</th>\n",
       "    </tr>\n",
       "  </thead>\n",
       "  <tbody>\n",
       "    <tr>\n",
       "      <td>count</td>\n",
       "      <td>30000.000000</td>\n",
       "      <td>30000.000000</td>\n",
       "      <td>30000.000000</td>\n",
       "      <td>30000.000000</td>\n",
       "      <td>30000.000000</td>\n",
       "      <td>30000.000000</td>\n",
       "      <td>30000.000000</td>\n",
       "      <td>30000.000000</td>\n",
       "      <td>30000.000000</td>\n",
       "      <td>30000.000000</td>\n",
       "      <td>...</td>\n",
       "      <td>3.000000e+04</td>\n",
       "      <td>30000.000000</td>\n",
       "      <td>30000.000000</td>\n",
       "      <td>30000.000000</td>\n",
       "      <td>30000.000000</td>\n",
       "      <td>3.000000e+04</td>\n",
       "      <td>30000.00000</td>\n",
       "      <td>30000.000000</td>\n",
       "      <td>30000.000000</td>\n",
       "      <td>30000.000000</td>\n",
       "    </tr>\n",
       "    <tr>\n",
       "      <td>mean</td>\n",
       "      <td>167484.322667</td>\n",
       "      <td>1.603733</td>\n",
       "      <td>1.853133</td>\n",
       "      <td>1.551867</td>\n",
       "      <td>35.485500</td>\n",
       "      <td>-0.016700</td>\n",
       "      <td>-0.133767</td>\n",
       "      <td>-0.166200</td>\n",
       "      <td>-0.220667</td>\n",
       "      <td>-0.266200</td>\n",
       "      <td>...</td>\n",
       "      <td>4.701315e+04</td>\n",
       "      <td>43262.948967</td>\n",
       "      <td>40311.400967</td>\n",
       "      <td>38871.760400</td>\n",
       "      <td>5663.580500</td>\n",
       "      <td>5.921163e+03</td>\n",
       "      <td>5225.68150</td>\n",
       "      <td>4826.076867</td>\n",
       "      <td>4799.387633</td>\n",
       "      <td>5215.502567</td>\n",
       "    </tr>\n",
       "    <tr>\n",
       "      <td>std</td>\n",
       "      <td>129747.661567</td>\n",
       "      <td>0.489129</td>\n",
       "      <td>0.790349</td>\n",
       "      <td>0.521970</td>\n",
       "      <td>9.217904</td>\n",
       "      <td>1.123802</td>\n",
       "      <td>1.197186</td>\n",
       "      <td>1.196868</td>\n",
       "      <td>1.169139</td>\n",
       "      <td>1.133187</td>\n",
       "      <td>...</td>\n",
       "      <td>6.934939e+04</td>\n",
       "      <td>64332.856134</td>\n",
       "      <td>60797.155770</td>\n",
       "      <td>59554.107537</td>\n",
       "      <td>16563.280354</td>\n",
       "      <td>2.304087e+04</td>\n",
       "      <td>17606.96147</td>\n",
       "      <td>15666.159744</td>\n",
       "      <td>15278.305679</td>\n",
       "      <td>17777.465775</td>\n",
       "    </tr>\n",
       "    <tr>\n",
       "      <td>min</td>\n",
       "      <td>10000.000000</td>\n",
       "      <td>1.000000</td>\n",
       "      <td>0.000000</td>\n",
       "      <td>0.000000</td>\n",
       "      <td>21.000000</td>\n",
       "      <td>-2.000000</td>\n",
       "      <td>-2.000000</td>\n",
       "      <td>-2.000000</td>\n",
       "      <td>-2.000000</td>\n",
       "      <td>-2.000000</td>\n",
       "      <td>...</td>\n",
       "      <td>-1.572640e+05</td>\n",
       "      <td>-170000.000000</td>\n",
       "      <td>-81334.000000</td>\n",
       "      <td>-339603.000000</td>\n",
       "      <td>0.000000</td>\n",
       "      <td>0.000000e+00</td>\n",
       "      <td>0.00000</td>\n",
       "      <td>0.000000</td>\n",
       "      <td>0.000000</td>\n",
       "      <td>0.000000</td>\n",
       "    </tr>\n",
       "    <tr>\n",
       "      <td>25%</td>\n",
       "      <td>50000.000000</td>\n",
       "      <td>1.000000</td>\n",
       "      <td>1.000000</td>\n",
       "      <td>1.000000</td>\n",
       "      <td>28.000000</td>\n",
       "      <td>-1.000000</td>\n",
       "      <td>-1.000000</td>\n",
       "      <td>-1.000000</td>\n",
       "      <td>-1.000000</td>\n",
       "      <td>-1.000000</td>\n",
       "      <td>...</td>\n",
       "      <td>2.666250e+03</td>\n",
       "      <td>2326.750000</td>\n",
       "      <td>1763.000000</td>\n",
       "      <td>1256.000000</td>\n",
       "      <td>1000.000000</td>\n",
       "      <td>8.330000e+02</td>\n",
       "      <td>390.00000</td>\n",
       "      <td>296.000000</td>\n",
       "      <td>252.500000</td>\n",
       "      <td>117.750000</td>\n",
       "    </tr>\n",
       "    <tr>\n",
       "      <td>50%</td>\n",
       "      <td>140000.000000</td>\n",
       "      <td>2.000000</td>\n",
       "      <td>2.000000</td>\n",
       "      <td>2.000000</td>\n",
       "      <td>34.000000</td>\n",
       "      <td>0.000000</td>\n",
       "      <td>0.000000</td>\n",
       "      <td>0.000000</td>\n",
       "      <td>0.000000</td>\n",
       "      <td>0.000000</td>\n",
       "      <td>...</td>\n",
       "      <td>2.008850e+04</td>\n",
       "      <td>19052.000000</td>\n",
       "      <td>18104.500000</td>\n",
       "      <td>17071.000000</td>\n",
       "      <td>2100.000000</td>\n",
       "      <td>2.009000e+03</td>\n",
       "      <td>1800.00000</td>\n",
       "      <td>1500.000000</td>\n",
       "      <td>1500.000000</td>\n",
       "      <td>1500.000000</td>\n",
       "    </tr>\n",
       "    <tr>\n",
       "      <td>75%</td>\n",
       "      <td>240000.000000</td>\n",
       "      <td>2.000000</td>\n",
       "      <td>2.000000</td>\n",
       "      <td>2.000000</td>\n",
       "      <td>41.000000</td>\n",
       "      <td>0.000000</td>\n",
       "      <td>0.000000</td>\n",
       "      <td>0.000000</td>\n",
       "      <td>0.000000</td>\n",
       "      <td>0.000000</td>\n",
       "      <td>...</td>\n",
       "      <td>6.016475e+04</td>\n",
       "      <td>54506.000000</td>\n",
       "      <td>50190.500000</td>\n",
       "      <td>49198.250000</td>\n",
       "      <td>5006.000000</td>\n",
       "      <td>5.000000e+03</td>\n",
       "      <td>4505.00000</td>\n",
       "      <td>4013.250000</td>\n",
       "      <td>4031.500000</td>\n",
       "      <td>4000.000000</td>\n",
       "    </tr>\n",
       "    <tr>\n",
       "      <td>max</td>\n",
       "      <td>1000000.000000</td>\n",
       "      <td>2.000000</td>\n",
       "      <td>6.000000</td>\n",
       "      <td>3.000000</td>\n",
       "      <td>79.000000</td>\n",
       "      <td>8.000000</td>\n",
       "      <td>8.000000</td>\n",
       "      <td>8.000000</td>\n",
       "      <td>8.000000</td>\n",
       "      <td>8.000000</td>\n",
       "      <td>...</td>\n",
       "      <td>1.664089e+06</td>\n",
       "      <td>891586.000000</td>\n",
       "      <td>927171.000000</td>\n",
       "      <td>961664.000000</td>\n",
       "      <td>873552.000000</td>\n",
       "      <td>1.684259e+06</td>\n",
       "      <td>896040.00000</td>\n",
       "      <td>621000.000000</td>\n",
       "      <td>426529.000000</td>\n",
       "      <td>528666.000000</td>\n",
       "    </tr>\n",
       "  </tbody>\n",
       "</table>\n",
       "<p>8 rows × 23 columns</p>\n",
       "</div>"
      ],
      "text/plain": [
       "            Limit_bal           Sex     Education  Marital_status  \\\n",
       "count    30000.000000  30000.000000  30000.000000    30000.000000   \n",
       "mean    167484.322667      1.603733      1.853133        1.551867   \n",
       "std     129747.661567      0.489129      0.790349        0.521970   \n",
       "min      10000.000000      1.000000      0.000000        0.000000   \n",
       "25%      50000.000000      1.000000      1.000000        1.000000   \n",
       "50%     140000.000000      2.000000      2.000000        2.000000   \n",
       "75%     240000.000000      2.000000      2.000000        2.000000   \n",
       "max    1000000.000000      2.000000      6.000000        3.000000   \n",
       "\n",
       "                Age  Repay_Status_Sep05  Repay_Status_Aug05  \\\n",
       "count  30000.000000        30000.000000        30000.000000   \n",
       "mean      35.485500           -0.016700           -0.133767   \n",
       "std        9.217904            1.123802            1.197186   \n",
       "min       21.000000           -2.000000           -2.000000   \n",
       "25%       28.000000           -1.000000           -1.000000   \n",
       "50%       34.000000            0.000000            0.000000   \n",
       "75%       41.000000            0.000000            0.000000   \n",
       "max       79.000000            8.000000            8.000000   \n",
       "\n",
       "       Repay_Status_Jul05  Repay_Status_Jun05  Repay_Status_May05  ...  \\\n",
       "count        30000.000000        30000.000000        30000.000000  ...   \n",
       "mean            -0.166200           -0.220667           -0.266200  ...   \n",
       "std              1.196868            1.169139            1.133187  ...   \n",
       "min             -2.000000           -2.000000           -2.000000  ...   \n",
       "25%             -1.000000           -1.000000           -1.000000  ...   \n",
       "50%              0.000000            0.000000            0.000000  ...   \n",
       "75%              0.000000            0.000000            0.000000  ...   \n",
       "max              8.000000            8.000000            8.000000  ...   \n",
       "\n",
       "       Bill_Amt_Jul05  Bill_Amt_Jun05  Bill_Amt_May05  Bill_Amt_Apr05  \\\n",
       "count    3.000000e+04    30000.000000    30000.000000    30000.000000   \n",
       "mean     4.701315e+04    43262.948967    40311.400967    38871.760400   \n",
       "std      6.934939e+04    64332.856134    60797.155770    59554.107537   \n",
       "min     -1.572640e+05  -170000.000000   -81334.000000  -339603.000000   \n",
       "25%      2.666250e+03     2326.750000     1763.000000     1256.000000   \n",
       "50%      2.008850e+04    19052.000000    18104.500000    17071.000000   \n",
       "75%      6.016475e+04    54506.000000    50190.500000    49198.250000   \n",
       "max      1.664089e+06   891586.000000   927171.000000   961664.000000   \n",
       "\n",
       "       Amt_Paid_Sep05  Amt_Paid_Aug05  Amt_Paid_Jul05  Amt_Paid_Jun05  \\\n",
       "count    30000.000000    3.000000e+04     30000.00000    30000.000000   \n",
       "mean      5663.580500    5.921163e+03      5225.68150     4826.076867   \n",
       "std      16563.280354    2.304087e+04     17606.96147    15666.159744   \n",
       "min          0.000000    0.000000e+00         0.00000        0.000000   \n",
       "25%       1000.000000    8.330000e+02       390.00000      296.000000   \n",
       "50%       2100.000000    2.009000e+03      1800.00000     1500.000000   \n",
       "75%       5006.000000    5.000000e+03      4505.00000     4013.250000   \n",
       "max     873552.000000    1.684259e+06    896040.00000   621000.000000   \n",
       "\n",
       "       Amt_Paid_May05  Amt_Paid_Apr05  \n",
       "count    30000.000000    30000.000000  \n",
       "mean      4799.387633     5215.502567  \n",
       "std      15278.305679    17777.465775  \n",
       "min          0.000000        0.000000  \n",
       "25%        252.500000      117.750000  \n",
       "50%       1500.000000     1500.000000  \n",
       "75%       4031.500000     4000.000000  \n",
       "max     426529.000000   528666.000000  \n",
       "\n",
       "[8 rows x 23 columns]"
      ]
     },
     "execution_count": 15,
     "metadata": {},
     "output_type": "execute_result"
    }
   ],
   "source": [
    "cc_data.describe()"
   ]
  },
  {
   "cell_type": "markdown",
   "metadata": {},
   "source": [
    "Looks like everyone had a minimum limit balance (bank balance) of 10000 NT and a number of them still defaulted in their payments.\n"
   ]
  },
  {
   "cell_type": "markdown",
   "metadata": {},
   "source": [
    "Since Sep'05 is the latest month in the dataset, finding out the number of people who were defaulting in the same period"
   ]
  },
  {
   "cell_type": "code",
   "execution_count": 16,
   "metadata": {},
   "outputs": [
    {
     "data": {
      "text/plain": [
       "(6818, 23)"
      ]
     },
     "execution_count": 16,
     "metadata": {},
     "output_type": "execute_result"
    }
   ],
   "source": [
    "#Finding the defaultee numbers for period: Sep-05\n",
    "cc_data[cc_data[\"Repay_Status_Sep05\"]>0].shape"
   ]
  },
  {
   "cell_type": "markdown",
   "metadata": {},
   "source": [
    "6818 people had payment delays in Sep 2005 out of 30,000"
   ]
  },
  {
   "cell_type": "code",
   "execution_count": 17,
   "metadata": {
    "scrolled": true
   },
   "outputs": [],
   "source": [
    "repay_Sep = cc_data.groupby(\"Repay_Status_Sep05\").size()"
   ]
  },
  {
   "cell_type": "code",
   "execution_count": 18,
   "metadata": {},
   "outputs": [],
   "source": [
    "repay_Aug = cc_data.groupby(\"Repay_Status_Aug05\").size()"
   ]
  },
  {
   "cell_type": "code",
   "execution_count": 19,
   "metadata": {},
   "outputs": [],
   "source": [
    "repay_Jul = cc_data.groupby(\"Repay_Status_Jul05\").size()"
   ]
  },
  {
   "cell_type": "code",
   "execution_count": 20,
   "metadata": {},
   "outputs": [],
   "source": [
    "repay_Jun = cc_data.groupby(\"Repay_Status_Jun05\").size()"
   ]
  },
  {
   "cell_type": "code",
   "execution_count": 21,
   "metadata": {},
   "outputs": [],
   "source": [
    "repay_May = cc_data.groupby(\"Repay_Status_May05\").size()"
   ]
  },
  {
   "cell_type": "code",
   "execution_count": 22,
   "metadata": {},
   "outputs": [],
   "source": [
    "repay_Apr = cc_data.groupby(\"Repay_Status_Apr05\").size()"
   ]
  },
  {
   "cell_type": "markdown",
   "metadata": {},
   "source": [
    "<b>Observations:</b><br>\n",
    "Out of 30,000 people in the data set a majority of them had either paid off their Credit Card bill (Status: 0 and -2),\n",
    "5686 are yet to pay their recent bill within time (status: -1)\n",
    "3688 defaulted 1 month's bill\n",
    "2667 did not pay 2 months bill and the numbers drop off thereafter\n",
    "\n",
    "Based on the above stats, there is room to understand the patterns between the defaultees (especially status :1 & 2) and features like - Sex, Education, Marital_Status, Age, History of past Payment"
   ]
  },
  {
   "cell_type": "markdown",
   "metadata": {},
   "source": [
    "<h2> Data Visualization </h2>"
   ]
  },
  {
   "cell_type": "markdown",
   "metadata": {},
   "source": [
    "Plotting the defaultee counts from April to September 2005"
   ]
  },
  {
   "cell_type": "code",
   "execution_count": 23,
   "metadata": {},
   "outputs": [
    {
     "data": {
      "text/plain": [
       "Text(0.5, 1.0, 'Count of People Defaulted across Months')"
      ]
     },
     "execution_count": 23,
     "metadata": {},
     "output_type": "execute_result"
    },
    {
     "data": {
      "image/png": "[encoded data removed]",
      "text/plain": [
       "<Figure size 1152x720 with 1 Axes>"
      ]
     },
     "metadata": {
      "needs_background": "light"
     },
     "output_type": "display_data"
    }
   ],
   "source": [
    "plt.figure(figsize=(16,10))\n",
    "sns.set_style(\"whitegrid\")\n",
    "sns.lineplot(data=repay_Apr,marker='s')\n",
    "sns.lineplot(data=repay_May,marker='o')\n",
    "sns.lineplot(data=repay_Jun,marker='+')\n",
    "sns.lineplot(data=repay_Jul,marker='*')\n",
    "sns.lineplot(data=repay_Aug,marker='_')\n",
    "sns.lineplot(data=repay_Sep,marker='D')\n",
    "\n",
    "plt.legend([\"Apr\",\"May\",\"Jun\",\"Jul\",\"Aug\",\"Sep\"])\n",
    "plt.xticks(np.arange(-2,8,1))\n",
    "plt.ylim(0,18000)\n",
    "plt.xlabel(\"Number of Months Defaulted\")\n",
    "plt.ylabel(\"Count of People\")\n",
    "plt.title(\"Count of People Defaulted across Months\")"
   ]
  },
  {
   "cell_type": "markdown",
   "metadata": {},
   "source": [
    "<b>Observations</b><br>\n",
    "<i>Payments - 1 Month Overdue</i><br>\n",
    "September'05 was the only month which has 1 month defaultees (around 3700 mark). For other months the numbers are very small (less than 50)<br>\n",
    "<i>Payments - 2 Months Overdue</i><br>\n",
    "Interestingly, April, May and September converge to a number of 3000 people\n",
    "Whereas in Jul and August the numbers were close to 4000<br>\n",
    "<i>Payments - 3 Months+ Overdue</i><br>\n",
    "The number of defaultees for 3 Months+ are very low, lesser than 500 mark for all months.\n",
    "So, the existing bank balance comes into picture here where most of them do not want to default more than 2 months.\n",
    "\n",
    "\n"
   ]
  },
  {
   "cell_type": "code",
   "execution_count": 24,
   "metadata": {
    "scrolled": true
   },
   "outputs": [
    {
     "data": {
      "text/plain": [
       "Text(0.5, 1.0, 'Age Distribution')"
      ]
     },
     "execution_count": 24,
     "metadata": {},
     "output_type": "execute_result"
    },
    {
     "data": {
      "image/png": "[encoded data removed]",
      "text/plain": [
       "<Figure size 1152x432 with 1 Axes>"
      ]
     },
     "metadata": {},
     "output_type": "display_data"
    }
   ],
   "source": [
    "#Generating Age Distribution in the data population\n",
    "plt.figure(figsize=(16,6))\n",
    "sns.countplot(cc_data[\"Age\"])\n",
    "plt.ylim(0,1600)\n",
    "plt.title(\"Age Distribution\")"
   ]
  },
  {
   "cell_type": "code",
   "execution_count": 25,
   "metadata": {},
   "outputs": [
    {
     "data": {
      "text/plain": [
       "<matplotlib.axes._subplots.AxesSubplot at 0x21a70127b88>"
      ]
     },
     "execution_count": 25,
     "metadata": {},
     "output_type": "execute_result"
    },
    {
     "data": {
      "image/png": "[encoded data removed]",
      "text/plain": [
       "<Figure size 432x288 with 1 Axes>"
      ]
     },
     "metadata": {},
     "output_type": "display_data"
    }
   ],
   "source": [
    "sns.distplot(cc_data[\"Age\"])"
   ]
  },
  {
   "cell_type": "markdown",
   "metadata": {},
   "source": [
    "Majority of population in the dataset are in the demographics of 23 to 40 (count of 800+ people i each of thhe discrete age groups in this category)"
   ]
  },
  {
   "cell_type": "markdown",
   "metadata": {},
   "source": [
    "Age based Visualization for April, May and September Months - which had high number of defaultees for single month in general"
   ]
  },
  {
   "cell_type": "code",
   "execution_count": 26,
   "metadata": {},
   "outputs": [
    {
     "data": {
      "text/html": [
       "<div>\n",
       "<style scoped>\n",
       "    .dataframe tbody tr th:only-of-type {\n",
       "        vertical-align: middle;\n",
       "    }\n",
       "\n",
       "    .dataframe tbody tr th {\n",
       "        vertical-align: top;\n",
       "    }\n",
       "\n",
       "    .dataframe thead th {\n",
       "        text-align: right;\n",
       "    }\n",
       "</style>\n",
       "<table border=\"1\" class=\"dataframe\">\n",
       "  <thead>\n",
       "    <tr style=\"text-align: right;\">\n",
       "      <th></th>\n",
       "      <th>Limit_bal</th>\n",
       "      <th>Sex</th>\n",
       "      <th>Education</th>\n",
       "      <th>Marital_status</th>\n",
       "      <th>Age</th>\n",
       "      <th>Repay_Status_Sep05</th>\n",
       "      <th>Repay_Status_Aug05</th>\n",
       "      <th>Repay_Status_Jul05</th>\n",
       "      <th>Repay_Status_Jun05</th>\n",
       "      <th>Repay_Status_May05</th>\n",
       "      <th>...</th>\n",
       "      <th>Bill_Amt_Jul05</th>\n",
       "      <th>Bill_Amt_Jun05</th>\n",
       "      <th>Bill_Amt_May05</th>\n",
       "      <th>Bill_Amt_Apr05</th>\n",
       "      <th>Amt_Paid_Sep05</th>\n",
       "      <th>Amt_Paid_Aug05</th>\n",
       "      <th>Amt_Paid_Jul05</th>\n",
       "      <th>Amt_Paid_Jun05</th>\n",
       "      <th>Amt_Paid_May05</th>\n",
       "      <th>Amt_Paid_Apr05</th>\n",
       "    </tr>\n",
       "  </thead>\n",
       "  <tbody>\n",
       "    <tr>\n",
       "      <td>14</td>\n",
       "      <td>70000</td>\n",
       "      <td>1</td>\n",
       "      <td>2</td>\n",
       "      <td>2</td>\n",
       "      <td>30</td>\n",
       "      <td>1</td>\n",
       "      <td>2</td>\n",
       "      <td>2</td>\n",
       "      <td>0</td>\n",
       "      <td>0</td>\n",
       "      <td>...</td>\n",
       "      <td>65701</td>\n",
       "      <td>66782</td>\n",
       "      <td>36137</td>\n",
       "      <td>36894</td>\n",
       "      <td>3200</td>\n",
       "      <td>0</td>\n",
       "      <td>3000</td>\n",
       "      <td>3000</td>\n",
       "      <td>1500</td>\n",
       "      <td>0</td>\n",
       "    </tr>\n",
       "    <tr>\n",
       "      <td>16</td>\n",
       "      <td>50000</td>\n",
       "      <td>2</td>\n",
       "      <td>3</td>\n",
       "      <td>3</td>\n",
       "      <td>23</td>\n",
       "      <td>1</td>\n",
       "      <td>2</td>\n",
       "      <td>0</td>\n",
       "      <td>0</td>\n",
       "      <td>0</td>\n",
       "      <td>...</td>\n",
       "      <td>28116</td>\n",
       "      <td>28771</td>\n",
       "      <td>29531</td>\n",
       "      <td>30211</td>\n",
       "      <td>0</td>\n",
       "      <td>1500</td>\n",
       "      <td>1100</td>\n",
       "      <td>1200</td>\n",
       "      <td>1300</td>\n",
       "      <td>1100</td>\n",
       "    </tr>\n",
       "    <tr>\n",
       "      <td>19</td>\n",
       "      <td>360000</td>\n",
       "      <td>2</td>\n",
       "      <td>1</td>\n",
       "      <td>1</td>\n",
       "      <td>49</td>\n",
       "      <td>1</td>\n",
       "      <td>-2</td>\n",
       "      <td>-2</td>\n",
       "      <td>-2</td>\n",
       "      <td>-2</td>\n",
       "      <td>...</td>\n",
       "      <td>0</td>\n",
       "      <td>0</td>\n",
       "      <td>0</td>\n",
       "      <td>0</td>\n",
       "      <td>0</td>\n",
       "      <td>0</td>\n",
       "      <td>0</td>\n",
       "      <td>0</td>\n",
       "      <td>0</td>\n",
       "      <td>0</td>\n",
       "    </tr>\n",
       "    <tr>\n",
       "      <td>20</td>\n",
       "      <td>180000</td>\n",
       "      <td>2</td>\n",
       "      <td>1</td>\n",
       "      <td>2</td>\n",
       "      <td>29</td>\n",
       "      <td>1</td>\n",
       "      <td>-2</td>\n",
       "      <td>-2</td>\n",
       "      <td>-2</td>\n",
       "      <td>-2</td>\n",
       "      <td>...</td>\n",
       "      <td>0</td>\n",
       "      <td>0</td>\n",
       "      <td>0</td>\n",
       "      <td>0</td>\n",
       "      <td>0</td>\n",
       "      <td>0</td>\n",
       "      <td>0</td>\n",
       "      <td>0</td>\n",
       "      <td>0</td>\n",
       "      <td>0</td>\n",
       "    </tr>\n",
       "    <tr>\n",
       "      <td>27</td>\n",
       "      <td>60000</td>\n",
       "      <td>1</td>\n",
       "      <td>1</td>\n",
       "      <td>2</td>\n",
       "      <td>27</td>\n",
       "      <td>1</td>\n",
       "      <td>-2</td>\n",
       "      <td>-1</td>\n",
       "      <td>-1</td>\n",
       "      <td>-1</td>\n",
       "      <td>...</td>\n",
       "      <td>259</td>\n",
       "      <td>-57</td>\n",
       "      <td>127</td>\n",
       "      <td>-189</td>\n",
       "      <td>0</td>\n",
       "      <td>1000</td>\n",
       "      <td>0</td>\n",
       "      <td>500</td>\n",
       "      <td>0</td>\n",
       "      <td>1000</td>\n",
       "    </tr>\n",
       "    <tr>\n",
       "      <td>...</td>\n",
       "      <td>...</td>\n",
       "      <td>...</td>\n",
       "      <td>...</td>\n",
       "      <td>...</td>\n",
       "      <td>...</td>\n",
       "      <td>...</td>\n",
       "      <td>...</td>\n",
       "      <td>...</td>\n",
       "      <td>...</td>\n",
       "      <td>...</td>\n",
       "      <td>...</td>\n",
       "      <td>...</td>\n",
       "      <td>...</td>\n",
       "      <td>...</td>\n",
       "      <td>...</td>\n",
       "      <td>...</td>\n",
       "      <td>...</td>\n",
       "      <td>...</td>\n",
       "      <td>...</td>\n",
       "      <td>...</td>\n",
       "      <td>...</td>\n",
       "    </tr>\n",
       "    <tr>\n",
       "      <td>29963</td>\n",
       "      <td>50000</td>\n",
       "      <td>1</td>\n",
       "      <td>2</td>\n",
       "      <td>2</td>\n",
       "      <td>30</td>\n",
       "      <td>1</td>\n",
       "      <td>-1</td>\n",
       "      <td>2</td>\n",
       "      <td>-1</td>\n",
       "      <td>-1</td>\n",
       "      <td>...</td>\n",
       "      <td>264</td>\n",
       "      <td>7300</td>\n",
       "      <td>0</td>\n",
       "      <td>0</td>\n",
       "      <td>528</td>\n",
       "      <td>0</td>\n",
       "      <td>7300</td>\n",
       "      <td>0</td>\n",
       "      <td>0</td>\n",
       "      <td>0</td>\n",
       "    </tr>\n",
       "    <tr>\n",
       "      <td>29974</td>\n",
       "      <td>230000</td>\n",
       "      <td>1</td>\n",
       "      <td>2</td>\n",
       "      <td>1</td>\n",
       "      <td>35</td>\n",
       "      <td>1</td>\n",
       "      <td>-2</td>\n",
       "      <td>-2</td>\n",
       "      <td>-2</td>\n",
       "      <td>-2</td>\n",
       "      <td>...</td>\n",
       "      <td>0</td>\n",
       "      <td>0</td>\n",
       "      <td>0</td>\n",
       "      <td>0</td>\n",
       "      <td>0</td>\n",
       "      <td>0</td>\n",
       "      <td>0</td>\n",
       "      <td>0</td>\n",
       "      <td>0</td>\n",
       "      <td>0</td>\n",
       "    </tr>\n",
       "    <tr>\n",
       "      <td>29975</td>\n",
       "      <td>50000</td>\n",
       "      <td>1</td>\n",
       "      <td>2</td>\n",
       "      <td>1</td>\n",
       "      <td>37</td>\n",
       "      <td>1</td>\n",
       "      <td>2</td>\n",
       "      <td>2</td>\n",
       "      <td>2</td>\n",
       "      <td>0</td>\n",
       "      <td>...</td>\n",
       "      <td>4328</td>\n",
       "      <td>2846</td>\n",
       "      <td>1585</td>\n",
       "      <td>1324</td>\n",
       "      <td>0</td>\n",
       "      <td>3000</td>\n",
       "      <td>0</td>\n",
       "      <td>0</td>\n",
       "      <td>1000</td>\n",
       "      <td>1000</td>\n",
       "    </tr>\n",
       "    <tr>\n",
       "      <td>29982</td>\n",
       "      <td>50000</td>\n",
       "      <td>1</td>\n",
       "      <td>2</td>\n",
       "      <td>1</td>\n",
       "      <td>44</td>\n",
       "      <td>1</td>\n",
       "      <td>2</td>\n",
       "      <td>2</td>\n",
       "      <td>2</td>\n",
       "      <td>0</td>\n",
       "      <td>...</td>\n",
       "      <td>33101</td>\n",
       "      <td>28192</td>\n",
       "      <td>22676</td>\n",
       "      <td>14647</td>\n",
       "      <td>2300</td>\n",
       "      <td>1700</td>\n",
       "      <td>0</td>\n",
       "      <td>517</td>\n",
       "      <td>503</td>\n",
       "      <td>585</td>\n",
       "    </tr>\n",
       "    <tr>\n",
       "      <td>29999</td>\n",
       "      <td>80000</td>\n",
       "      <td>1</td>\n",
       "      <td>3</td>\n",
       "      <td>1</td>\n",
       "      <td>41</td>\n",
       "      <td>1</td>\n",
       "      <td>-1</td>\n",
       "      <td>0</td>\n",
       "      <td>0</td>\n",
       "      <td>0</td>\n",
       "      <td>...</td>\n",
       "      <td>76304</td>\n",
       "      <td>52774</td>\n",
       "      <td>11855</td>\n",
       "      <td>48944</td>\n",
       "      <td>85900</td>\n",
       "      <td>3409</td>\n",
       "      <td>1178</td>\n",
       "      <td>1926</td>\n",
       "      <td>52964</td>\n",
       "      <td>1804</td>\n",
       "    </tr>\n",
       "  </tbody>\n",
       "</table>\n",
       "<p>3688 rows × 23 columns</p>\n",
       "</div>"
      ],
      "text/plain": [
       "       Limit_bal  Sex  Education  Marital_status  Age  Repay_Status_Sep05  \\\n",
       "14         70000    1          2               2   30                   1   \n",
       "16         50000    2          3               3   23                   1   \n",
       "19        360000    2          1               1   49                   1   \n",
       "20        180000    2          1               2   29                   1   \n",
       "27         60000    1          1               2   27                   1   \n",
       "...          ...  ...        ...             ...  ...                 ...   \n",
       "29963      50000    1          2               2   30                   1   \n",
       "29974     230000    1          2               1   35                   1   \n",
       "29975      50000    1          2               1   37                   1   \n",
       "29982      50000    1          2               1   44                   1   \n",
       "29999      80000    1          3               1   41                   1   \n",
       "\n",
       "       Repay_Status_Aug05  Repay_Status_Jul05  Repay_Status_Jun05  \\\n",
       "14                      2                   2                   0   \n",
       "16                      2                   0                   0   \n",
       "19                     -2                  -2                  -2   \n",
       "20                     -2                  -2                  -2   \n",
       "27                     -2                  -1                  -1   \n",
       "...                   ...                 ...                 ...   \n",
       "29963                  -1                   2                  -1   \n",
       "29974                  -2                  -2                  -2   \n",
       "29975                   2                   2                   2   \n",
       "29982                   2                   2                   2   \n",
       "29999                  -1                   0                   0   \n",
       "\n",
       "       Repay_Status_May05  ...  Bill_Amt_Jul05  Bill_Amt_Jun05  \\\n",
       "14                      0  ...           65701           66782   \n",
       "16                      0  ...           28116           28771   \n",
       "19                     -2  ...               0               0   \n",
       "20                     -2  ...               0               0   \n",
       "27                     -1  ...             259             -57   \n",
       "...                   ...  ...             ...             ...   \n",
       "29963                  -1  ...             264            7300   \n",
       "29974                  -2  ...               0               0   \n",
       "29975                   0  ...            4328            2846   \n",
       "29982                   0  ...           33101           28192   \n",
       "29999                   0  ...           76304           52774   \n",
       "\n",
       "       Bill_Amt_May05  Bill_Amt_Apr05  Amt_Paid_Sep05  Amt_Paid_Aug05  \\\n",
       "14              36137           36894            3200               0   \n",
       "16              29531           30211               0            1500   \n",
       "19                  0               0               0               0   \n",
       "20                  0               0               0               0   \n",
       "27                127            -189               0            1000   \n",
       "...               ...             ...             ...             ...   \n",
       "29963               0               0             528               0   \n",
       "29974               0               0               0               0   \n",
       "29975            1585            1324               0            3000   \n",
       "29982           22676           14647            2300            1700   \n",
       "29999           11855           48944           85900            3409   \n",
       "\n",
       "       Amt_Paid_Jul05  Amt_Paid_Jun05  Amt_Paid_May05  Amt_Paid_Apr05  \n",
       "14               3000            3000            1500               0  \n",
       "16               1100            1200            1300            1100  \n",
       "19                  0               0               0               0  \n",
       "20                  0               0               0               0  \n",
       "27                  0             500               0            1000  \n",
       "...               ...             ...             ...             ...  \n",
       "29963            7300               0               0               0  \n",
       "29974               0               0               0               0  \n",
       "29975               0               0            1000            1000  \n",
       "29982               0             517             503             585  \n",
       "29999            1178            1926           52964            1804  \n",
       "\n",
       "[3688 rows x 23 columns]"
      ]
     },
     "execution_count": 26,
     "metadata": {},
     "output_type": "execute_result"
    }
   ],
   "source": [
    "cc_data[cc_data[\"Repay_Status_Sep05\"]==1]"
   ]
  },
  {
   "cell_type": "code",
   "execution_count": 27,
   "metadata": {},
   "outputs": [],
   "source": [
    "def get_age_dist_defaultee(mthdt=\"Sep05\",num_months=3):\n",
    "    '''\n",
    "    Function to calculate the count of defaultees segregeated by age for 3 categories: defaulted for 1 ,2 and 3 months.\n",
    "    The parameter mthdt takes in value of a Month short form and year e.g. Apr05\n",
    "    '''\n",
    "    age_defaultee = []\n",
    "    col_name = \"Repay_Status_\"+mthdt\n",
    "    for var in np.arange(1,num_months+1,1):\n",
    "        month_wise_age = cc_data[cc_data[col_name]==var]\n",
    "        age_defaultee.append(month_wise_age.groupby(\"Age\")[col_name].agg(\"count\"))\n",
    "    return(age_defaultee)    "
   ]
  },
  {
   "cell_type": "code",
   "execution_count": 28,
   "metadata": {},
   "outputs": [],
   "source": [
    "sep_age_defaultee = get_age_dist_defaultee(\"Sep05\",3)"
   ]
  },
  {
   "cell_type": "code",
   "execution_count": 29,
   "metadata": {},
   "outputs": [],
   "source": [
    "apr_age_defaultee = get_age_dist_defaultee(\"Apr05\",3)"
   ]
  },
  {
   "cell_type": "code",
   "execution_count": 30,
   "metadata": {},
   "outputs": [],
   "source": [
    "may_age_defaultee = get_age_dist_defaultee(\"May05\",3)"
   ]
  },
  {
   "cell_type": "code",
   "execution_count": 31,
   "metadata": {},
   "outputs": [
    {
     "data": {
      "text/plain": [
       "Text(0.5, 1.0, '1 Month Defaultees distributed by Age')"
      ]
     },
     "execution_count": 31,
     "metadata": {},
     "output_type": "execute_result"
    },
    {
     "data": {
      "image/png": "[encoded data removed]",
      "text/plain": [
       "<Figure size 432x288 with 1 Axes>"
      ]
     },
     "metadata": {},
     "output_type": "display_data"
    }
   ],
   "source": [
    "#Lineplot of Age wise distribution for 1 month defaultees in Apr, May and September\n",
    "sns.lineplot(data=sep_age_defaultee[0],marker='P')\n",
    "sns.lineplot(data=may_age_defaultee[0],marker='+')\n",
    "sns.lineplot(data=apr_age_defaultee[0],marker='o')\n",
    "plt.ylim(0,250)\n",
    "plt.xlabel(\"Age\")\n",
    "plt.ylabel(\"Count of Defaultees\")\n",
    "plt.legend([\"Sep\",\"May\",\"Apr\"])\n",
    "plt.title(\"1 Month Defaultees distributed by Age\")"
   ]
  },
  {
   "cell_type": "code",
   "execution_count": 32,
   "metadata": {},
   "outputs": [
    {
     "data": {
      "text/plain": [
       "Text(0.5, 1.0, '2 Month Defaultees distributed by Age')"
      ]
     },
     "execution_count": 32,
     "metadata": {},
     "output_type": "execute_result"
    },
    {
     "data": {
      "image/png": "[encoded data removed]",
      "text/plain": [
       "<Figure size 432x288 with 1 Axes>"
      ]
     },
     "metadata": {},
     "output_type": "display_data"
    }
   ],
   "source": [
    "#Lineplot of Age wise distribution for 2 month defaultees in Apr, May and September\n",
    "sns.lineplot(data=sep_age_defaultee[1],marker='P')\n",
    "sns.lineplot(data=may_age_defaultee[1],marker='+')\n",
    "sns.lineplot(data=apr_age_defaultee[1],marker='o')\n",
    "plt.ylim(0,150)\n",
    "plt.xlim(20,80)\n",
    "plt.xticks(np.arange(20,80,5))\n",
    "plt.xlabel(\"Age\")\n",
    "plt.ylabel(\"Count of Defaultees\")\n",
    "plt.legend([\"Sep\",\"May\",\"Apr\"])\n",
    "plt.title(\"2 Month Defaultees distributed by Age\")"
   ]
  },
  {
   "cell_type": "code",
   "execution_count": 33,
   "metadata": {},
   "outputs": [
    {
     "data": {
      "text/plain": [
       "Text(0.5, 1.0, '3 Month Defaultees distributed by Age')"
      ]
     },
     "execution_count": 33,
     "metadata": {},
     "output_type": "execute_result"
    },
    {
     "data": {
      "image/png": "[encoded data removed]",
      "text/plain": [
       "<Figure size 432x288 with 1 Axes>"
      ]
     },
     "metadata": {},
     "output_type": "display_data"
    }
   ],
   "source": [
    "#Lineplot of Age wise distribution for 3 month defaultees in Apr, May and September\n",
    "sns.lineplot(data=sep_age_defaultee[2],marker='P')\n",
    "sns.lineplot(data=may_age_defaultee[2],marker='+')\n",
    "sns.lineplot(data=apr_age_defaultee[2],marker='o')\n",
    "plt.ylim(0,25)\n",
    "plt.xlim(20,65)\n",
    "plt.xticks(np.arange(20,65,5))\n",
    "plt.xlabel(\"Age\")\n",
    "plt.ylabel(\"Count of Defaultees\")\n",
    "plt.legend([\"Sep\",\"May\",\"Apr\"])\n",
    "plt.title(\"3 Month Defaultees distributed by Age\")"
   ]
  },
  {
   "cell_type": "markdown",
   "metadata": {},
   "source": [
    "Observation:\n",
    "Majority age group of 1 & 2 Month defaultees is 23 - 28\n",
    "Majority age group of 3 Month defaultees is 30 - 33"
   ]
  },
  {
   "cell_type": "markdown",
   "metadata": {},
   "source": [
    "<h2>Data Modelling</h2>"
   ]
  },
  {
   "cell_type": "code",
   "execution_count": 86,
   "metadata": {},
   "outputs": [],
   "source": [
    "from sklearn.model_selection import train_test_split\n",
    "from sklearn.linear_model import LogisticRegression\n",
    "from sklearn.linear_model import LogisticRegressionCV\n",
    "from sklearn.metrics import accuracy_score\n",
    "from sklearn.pipeline import Pipeline\n",
    "from sklearn.preprocessing import StandardScaler"
   ]
  },
  {
   "cell_type": "code",
   "execution_count": 35,
   "metadata": {},
   "outputs": [
    {
     "data": {
      "text/plain": [
       "Index(['Limit_bal', 'Sex', 'Education', 'Marital_status', 'Age',\n",
       "       'Repay_Status_Sep05', 'Repay_Status_Aug05', 'Repay_Status_Jul05',\n",
       "       'Repay_Status_Jun05', 'Repay_Status_May05', 'Repay_Status_Apr05',\n",
       "       'Bill_Amt_Sep05', 'Bill_Amt_Aug05', 'Bill_Amt_Jul05', 'Bill_Amt_Jun05',\n",
       "       'Bill_Amt_May05', 'Bill_Amt_Apr05', 'Amt_Paid_Sep05', 'Amt_Paid_Aug05',\n",
       "       'Amt_Paid_Jul05', 'Amt_Paid_Jun05', 'Amt_Paid_May05', 'Amt_Paid_Apr05'],\n",
       "      dtype='object')"
      ]
     },
     "execution_count": 35,
     "metadata": {},
     "output_type": "execute_result"
    }
   ],
   "source": [
    "cc_data.columns"
   ]
  },
  {
   "cell_type": "code",
   "execution_count": 36,
   "metadata": {
    "scrolled": true
   },
   "outputs": [],
   "source": [
    "#Splitting the independent and dependent features\n",
    "X = cc_data.drop(columns=\"Repay_Status_Sep05\")\n",
    "y = cc_data[\"Repay_Status_Sep05\"]"
   ]
  },
  {
   "cell_type": "code",
   "execution_count": 37,
   "metadata": {},
   "outputs": [],
   "source": [
    "#Train Test Split data\n",
    "X_train,X_test,y_train,y_test =  train_test_split(X,y,test_size=0.4,random_state=42)"
   ]
  },
  {
   "cell_type": "code",
   "execution_count": 38,
   "metadata": {},
   "outputs": [
    {
     "data": {
      "text/plain": [
       "(18000, 22)"
      ]
     },
     "execution_count": 38,
     "metadata": {},
     "output_type": "execute_result"
    }
   ],
   "source": [
    "X_train.shape"
   ]
  },
  {
   "cell_type": "markdown",
   "metadata": {},
   "source": [
    "<h3>Logistic Regression</h3>"
   ]
  },
  {
   "cell_type": "code",
   "execution_count": 89,
   "metadata": {},
   "outputs": [],
   "source": [
    "lr = LogisticRegression(solver='lbfgs')"
   ]
  },
  {
   "cell_type": "code",
   "execution_count": 90,
   "metadata": {},
   "outputs": [
    {
     "name": "stderr",
     "output_type": "stream",
     "text": [
      "C:\\Users\\Abc\\Anaconda3\\lib\\site-packages\\sklearn\\linear_model\\logistic.py:469: FutureWarning: Default multi_class will be changed to 'auto' in 0.22. Specify the multi_class option to silence this warning.\n",
      "  \"this warning.\", FutureWarning)\n"
     ]
    }
   ],
   "source": [
    "scaler = StandardScaler()\n",
    "x_std = scaler.fit_transform(X_train)\n",
    "model_lr = lr.fit(x_std,y_train)"
   ]
  },
  {
   "cell_type": "code",
   "execution_count": 93,
   "metadata": {},
   "outputs": [],
   "source": [
    "x_test_std = scaler.fit_transform(X_test)"
   ]
  },
  {
   "cell_type": "code",
   "execution_count": 94,
   "metadata": {},
   "outputs": [],
   "source": [
    "y_pred_lr = model_lr.predict(x_test_std)"
   ]
  },
  {
   "cell_type": "code",
   "execution_count": 95,
   "metadata": {},
   "outputs": [
    {
     "data": {
      "text/plain": [
       "0.6699166666666667"
      ]
     },
     "execution_count": 95,
     "metadata": {},
     "output_type": "execute_result"
    }
   ],
   "source": [
    "accuracy_score(y_test,y_pred_lr)"
   ]
  },
  {
   "cell_type": "markdown",
   "metadata": {},
   "source": [
    "Accuracy of 66.99% using Logistic Regression model"
   ]
  },
  {
   "cell_type": "markdown",
   "metadata": {},
   "source": [
    "<h3>Multinomial Logistic Regression CV</h3>"
   ]
  },
  {
   "cell_type": "code",
   "execution_count": 70,
   "metadata": {},
   "outputs": [],
   "source": [
    "#Using pipeline for scaling and applying multinomial logistic regression using solver: newtong-cg\n",
    "input = [('scaler',StandardScaler()),('model',LogisticRegressionCV(random_state=0,cv=10,multi_class=\"multinomial\",\n",
    "                                                                   solver=\"newton-cg\"))]"
   ]
  },
  {
   "cell_type": "code",
   "execution_count": 71,
   "metadata": {},
   "outputs": [],
   "source": [
    "pipe = Pipeline(input)"
   ]
  },
  {
   "cell_type": "code",
   "execution_count": 72,
   "metadata": {},
   "outputs": [
    {
     "name": "stderr",
     "output_type": "stream",
     "text": [
      "C:\\Users\\Abc\\Anaconda3\\lib\\site-packages\\sklearn\\model_selection\\_split.py:657: Warning: The least populated class in y has only 6 members, which is too few. The minimum number of members in any class cannot be less than n_splits=10.\n",
      "  % (min_groups, self.n_splits)), Warning)\n",
      "C:\\Users\\Abc\\Anaconda3\\lib\\site-packages\\sklearn\\utils\\optimize.py:203: ConvergenceWarning: newton-cg failed to converge. Increase the number of iterations.\n",
      "  \"number of iterations.\", ConvergenceWarning)\n",
      "C:\\Users\\Abc\\Anaconda3\\lib\\site-packages\\sklearn\\utils\\optimize.py:203: ConvergenceWarning: newton-cg failed to converge. Increase the number of iterations.\n",
      "  \"number of iterations.\", ConvergenceWarning)\n",
      "C:\\Users\\Abc\\Anaconda3\\lib\\site-packages\\sklearn\\utils\\optimize.py:203: ConvergenceWarning: newton-cg failed to converge. Increase the number of iterations.\n",
      "  \"number of iterations.\", ConvergenceWarning)\n",
      "C:\\Users\\Abc\\Anaconda3\\lib\\site-packages\\sklearn\\utils\\optimize.py:203: ConvergenceWarning: newton-cg failed to converge. Increase the number of iterations.\n",
      "  \"number of iterations.\", ConvergenceWarning)\n",
      "C:\\Users\\Abc\\Anaconda3\\lib\\site-packages\\sklearn\\utils\\optimize.py:203: ConvergenceWarning: newton-cg failed to converge. Increase the number of iterations.\n",
      "  \"number of iterations.\", ConvergenceWarning)\n",
      "C:\\Users\\Abc\\Anaconda3\\lib\\site-packages\\sklearn\\utils\\optimize.py:203: ConvergenceWarning: newton-cg failed to converge. Increase the number of iterations.\n",
      "  \"number of iterations.\", ConvergenceWarning)\n",
      "C:\\Users\\Abc\\Anaconda3\\lib\\site-packages\\sklearn\\utils\\optimize.py:203: ConvergenceWarning: newton-cg failed to converge. Increase the number of iterations.\n",
      "  \"number of iterations.\", ConvergenceWarning)\n",
      "C:\\Users\\Abc\\Anaconda3\\lib\\site-packages\\sklearn\\utils\\optimize.py:203: ConvergenceWarning: newton-cg failed to converge. Increase the number of iterations.\n",
      "  \"number of iterations.\", ConvergenceWarning)\n",
      "C:\\Users\\Abc\\Anaconda3\\lib\\site-packages\\sklearn\\utils\\optimize.py:203: ConvergenceWarning: newton-cg failed to converge. Increase the number of iterations.\n",
      "  \"number of iterations.\", ConvergenceWarning)\n",
      "C:\\Users\\Abc\\Anaconda3\\lib\\site-packages\\sklearn\\utils\\optimize.py:203: ConvergenceWarning: newton-cg failed to converge. Increase the number of iterations.\n",
      "  \"number of iterations.\", ConvergenceWarning)\n",
      "C:\\Users\\Abc\\Anaconda3\\lib\\site-packages\\sklearn\\utils\\optimize.py:203: ConvergenceWarning: newton-cg failed to converge. Increase the number of iterations.\n",
      "  \"number of iterations.\", ConvergenceWarning)\n"
     ]
    },
    {
     "data": {
      "text/plain": [
       "Pipeline(memory=None,\n",
       "         steps=[('scaler',\n",
       "                 StandardScaler(copy=True, with_mean=True, with_std=True)),\n",
       "                ('model',\n",
       "                 LogisticRegressionCV(Cs=10, class_weight=None, cv=10,\n",
       "                                      dual=False, fit_intercept=True,\n",
       "                                      intercept_scaling=1.0, l1_ratios=None,\n",
       "                                      max_iter=100, multi_class='multinomial',\n",
       "                                      n_jobs=None, penalty='l2', random_state=0,\n",
       "                                      refit=True, scoring=None,\n",
       "                                      solver='newton-cg', tol=0.0001,\n",
       "                                      verbose=0))],\n",
       "         verbose=False)"
      ]
     },
     "execution_count": 72,
     "metadata": {},
     "output_type": "execute_result"
    }
   ],
   "source": [
    "pipe.fit(X_train,y_train)"
   ]
  },
  {
   "cell_type": "code",
   "execution_count": 73,
   "metadata": {},
   "outputs": [
    {
     "data": {
      "text/plain": [
       "0.7414444444444445"
      ]
     },
     "execution_count": 73,
     "metadata": {},
     "output_type": "execute_result"
    }
   ],
   "source": [
    "#Training set R2 score\n",
    "pipe.score(X_train,y_train)"
   ]
  },
  {
   "cell_type": "code",
   "execution_count": 75,
   "metadata": {},
   "outputs": [],
   "source": [
    "y_predicted = pipe.predict(X_test)"
   ]
  },
  {
   "cell_type": "code",
   "execution_count": 79,
   "metadata": {},
   "outputs": [
    {
     "data": {
      "text/plain": [
       "0.7349166666666667"
      ]
     },
     "execution_count": 79,
     "metadata": {},
     "output_type": "execute_result"
    }
   ],
   "source": [
    "#Test set - R2 score\n",
    "pipe.score(X_test,y_test)"
   ]
  },
  {
   "cell_type": "code",
   "execution_count": 81,
   "metadata": {},
   "outputs": [
    {
     "data": {
      "text/plain": [
       "0.7349166666666667"
      ]
     },
     "execution_count": 81,
     "metadata": {},
     "output_type": "execute_result"
    }
   ],
   "source": [
    "#Test set - Accuracy score\n",
    "accuracy_score(y_test,y_predicted)"
   ]
  },
  {
   "cell_type": "code",
   "execution_count": 77,
   "metadata": {},
   "outputs": [],
   "source": [
    "#Storing the actual (y_test) and predicted values(y_predicted) in a dataframe\n",
    "act_pred_df = pd.DataFrame({\"Actuals\":y_test,\"Predicted\":y_predicted}) "
   ]
  },
  {
   "cell_type": "code",
   "execution_count": 118,
   "metadata": {},
   "outputs": [
    {
     "data": {
      "text/plain": [
       "Text(0.5, 1.0, 'Actual vs Predicted - Month wise Defaultee')"
      ]
     },
     "execution_count": 118,
     "metadata": {},
     "output_type": "execute_result"
    },
    {
     "data": {
      "image/png": "[encoded data removed]",
      "text/plain": [
       "<Figure size 864x576 with 1 Axes>"
      ]
     },
     "metadata": {},
     "output_type": "display_data"
    }
   ],
   "source": [
    "#Distribution Plot mapping the actual defaultee vs predicted defaultee\n",
    "plt.figure(figsize=(12,8))\n",
    "sns.distplot(act_pred_df[\"Actuals\"],hist=False,label=\"Actuals\")\n",
    "sns.distplot(act_pred_df[\"Predicted\"],hist=False,label=\"Predicted\")\n",
    "plt.xlim(-2.5,)\n",
    "plt.xlabel(\"Monthwise Defaultee\")\n",
    "plt.title(\"Actual vs Predicted - Month wise Defaultee\")"
   ]
  },
  {
   "cell_type": "markdown",
   "metadata": {},
   "source": [
    "As evidenced by the above plot and the accuracy score of 73.44%, we have a good data model on hand here.\n",
    "Yet, it is better to explore with other classification algorithms to assess the best fit"
   ]
  },
  {
   "cell_type": "markdown",
   "metadata": {},
   "source": [
    "<h3>Random Forest</h3>"
   ]
  },
  {
   "cell_type": "code",
   "execution_count": 119,
   "metadata": {},
   "outputs": [],
   "source": [
    "from sklearn.ensemble import RandomForestClassifier"
   ]
  },
  {
   "cell_type": "code",
   "execution_count": 168,
   "metadata": {},
   "outputs": [],
   "source": [
    "input = [('scaler',StandardScaler()),('model',RandomForestClassifier(n_estimators=100,n_jobs=-1))]"
   ]
  },
  {
   "cell_type": "code",
   "execution_count": 169,
   "metadata": {},
   "outputs": [],
   "source": [
    "pipe = Pipeline(input)"
   ]
  },
  {
   "cell_type": "code",
   "execution_count": 170,
   "metadata": {},
   "outputs": [
    {
     "data": {
      "text/plain": [
       "Pipeline(memory=None,\n",
       "         steps=[('scaler',\n",
       "                 StandardScaler(copy=True, with_mean=True, with_std=True)),\n",
       "                ('model',\n",
       "                 RandomForestClassifier(bootstrap=True, class_weight=None,\n",
       "                                        criterion='gini', max_depth=None,\n",
       "                                        max_features='auto',\n",
       "                                        max_leaf_nodes=None,\n",
       "                                        min_impurity_decrease=0.0,\n",
       "                                        min_impurity_split=None,\n",
       "                                        min_samples_leaf=1, min_samples_split=2,\n",
       "                                        min_weight_fraction_leaf=0.0,\n",
       "                                        n_estimators=100, n_jobs=-1,\n",
       "                                        oob_score=False, random_state=None,\n",
       "                                        verbose=0, warm_start=False))],\n",
       "         verbose=False)"
      ]
     },
     "execution_count": 170,
     "metadata": {},
     "output_type": "execute_result"
    }
   ],
   "source": [
    "pipe.fit(X_train,y_train)"
   ]
  },
  {
   "cell_type": "code",
   "execution_count": 171,
   "metadata": {},
   "outputs": [
    {
     "data": {
      "text/plain": [
       "0.9990555555555556"
      ]
     },
     "execution_count": 171,
     "metadata": {},
     "output_type": "execute_result"
    }
   ],
   "source": [
    "# Training Accuracy Score\n",
    "pipe.score(X_train,y_train)"
   ]
  },
  {
   "cell_type": "code",
   "execution_count": 172,
   "metadata": {},
   "outputs": [],
   "source": [
    "y_pred_rfc = pipe.predict(X_test)"
   ]
  },
  {
   "cell_type": "code",
   "execution_count": 173,
   "metadata": {},
   "outputs": [
    {
     "data": {
      "text/plain": [
       "0.8474166666666667"
      ]
     },
     "execution_count": 173,
     "metadata": {},
     "output_type": "execute_result"
    }
   ],
   "source": [
    "#Prediction Accuracy Score\n",
    "accuracy_score(y_test,y_pred_rfc)"
   ]
  },
  {
   "cell_type": "code",
   "execution_count": 131,
   "metadata": {},
   "outputs": [],
   "source": [
    "#Converting the actuals and predicted values to dataframe\n",
    "act_pred_rfc = pd.DataFrame({\"Actuals\":y_test,\"Predicted\":y_pred_rfc})"
   ]
  },
  {
   "cell_type": "code",
   "execution_count": 176,
   "metadata": {},
   "outputs": [
    {
     "data": {
      "text/plain": [
       "Text(0.5, 1.0, 'RF Model - Defaultee Actuals vs Prediction')"
      ]
     },
     "execution_count": 176,
     "metadata": {},
     "output_type": "execute_result"
    },
    {
     "data": {
      "image/png": "[encoded data removed]",
      "text/plain": [
       "<Figure size 720x576 with 1 Axes>"
      ]
     },
     "metadata": {},
     "output_type": "display_data"
    }
   ],
   "source": [
    "plt.figure(figsize=(10,8))\n",
    "sns.distplot(act_pred_rfc[\"Actuals\"],hist=False,label=\"Actuals\")\n",
    "sns.distplot(act_pred_rfc[\"Predicted\"],hist=False,label=\"Predicted\")\n",
    "plt.title(\"RF Model - Defaultee Actuals vs Prediction\")"
   ]
  },
  {
   "cell_type": "markdown",
   "metadata": {},
   "source": [
    "So far, RandomForestClassifier has given the best accuracy score of 84.66%"
   ]
  },
  {
   "cell_type": "markdown",
   "metadata": {},
   "source": [
    "<h4> Conclusion: </h4>\n",
    "Trained and tested to check Credit Card Risk using Logistic Regression, Multinomial Logistic Regression and Random Forest.\n",
    "Data Prediction Model using Random Forest proved to be most accurate at predicting the defaultees for various continuous months.\n"
   ]
  },
  {
   "cell_type": "code",
   "execution_count": null,
   "metadata": {},
   "outputs": [],
   "source": []
  }
 ],
 "metadata": {
  "kernelspec": {
   "display_name": "Python 3",
   "language": "python",
   "name": "python3"
  },
  "language_info": {
   "codemirror_mode": {
    "name": "ipython",
    "version": 3
   },
   "file_extension": ".py",
   "mimetype": "text/x-python",
   "name": "python",
   "nbconvert_exporter": "python",
   "pygments_lexer": "ipython3",
   "version": "3.7.4"
  }
 },
 "nbformat": 4,
 "nbformat_minor": 2
}
